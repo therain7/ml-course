{
  "nbformat": 4,
  "nbformat_minor": 0,
  "metadata": {
    "colab": {
      "provenance": []
    },
    "kernelspec": {
      "name": "python3",
      "display_name": "Python 3"
    },
    "language_info": {
      "name": "python"
    }
  },
  "cells": [
    {
      "cell_type": "markdown",
      "source": [
        "# Задача 10. Graph Convolutional Network"
      ],
      "metadata": {
        "id": "sq2fdjMFFBxe"
      }
    },
    {
      "cell_type": "markdown",
      "source": [
        "## Импортируем нужные библиотеки"
      ],
      "metadata": {
        "id": "ISxc7GhICHJs"
      }
    },
    {
      "cell_type": "code",
      "source": [
        "import collections\n",
        "import matplotlib.pyplot as plt\n",
        "import numpy as np\n",
        "import torch\n",
        "import torch.nn.functional as F\n",
        "\n",
        "from torch_geometric.datasets import Planetoid\n",
        "from torch_geometric.nn import GCNConv\n",
        "from torch_geometric.utils import add_self_loops"
      ],
      "metadata": {
        "id": "XWrKbsRsjBlj"
      },
      "execution_count": 2,
      "outputs": []
    },
    {
      "cell_type": "markdown",
      "source": [
        "## Dataset"
      ],
      "metadata": {
        "id": "TYh5NK2cCMwe"
      }
    },
    {
      "cell_type": "markdown",
      "source": [
        "В качестве датасета был выбран `CiteSeer`"
      ],
      "metadata": {
        "id": "7mY4iEe-Dsw4"
      }
    },
    {
      "cell_type": "markdown",
      "source": [
        "- Узлы — научные статьи.\n",
        "- Рёбра — цитирования между статьями.\n",
        "- Признаки узлов — бинарные вектора из текста статей. (т.е в колонке соответствующего слова стоит 0 или 1 в зависимости от того, встречается это слово в статье или нет)\n",
        "- Метки классов — тематические категории статей (например, Artificial Intelligence, Databases)."
      ],
      "metadata": {
        "id": "xw1wp-fvEChB"
      }
    },
    {
      "cell_type": "code",
      "source": [
        "dataset = Planetoid(root='dataset', name='CiteSeer')\n",
        "data = dataset[0]"
      ],
      "metadata": {
        "collapsed": true,
        "id": "WVCXOaAiiDXr"
      },
      "execution_count": null,
      "outputs": []
    },
    {
      "cell_type": "code",
      "source": [
        "data.num_nodes, data.num_edges, dataset.num_classes"
      ],
      "metadata": {
        "colab": {
          "base_uri": "https://localhost:8080/"
        },
        "id": "BbakfbvZiyur",
        "outputId": "bdbde495-d134-42a8-dcc4-674177973f5f"
      },
      "execution_count": 4,
      "outputs": [
        {
          "output_type": "execute_result",
          "data": {
            "text/plain": [
              "(3327, 9104, 6)"
            ]
          },
          "metadata": {},
          "execution_count": 4
        }
      ]
    },
    {
      "cell_type": "code",
      "source": [
        "count = np.bincount(data.y.cpu().numpy())\n",
        "plt.figure(figsize=(15, 10))\n",
        "plt.bar(np.arange(len(count)), count)\n",
        "plt.xlabel(\"Class\")\n",
        "plt.ylabel(\"Count\")\n",
        "plt.title(\"Class Distribution\")\n",
        "plt.show()"
      ],
      "metadata": {
        "colab": {
          "base_uri": "https://localhost:8080/",
          "height": 872
        },
        "id": "38ZIf8Egi--s",
        "outputId": "06d2d12f-0eb4-4948-bfdc-98647cf98976"
      },
      "execution_count": 5,
      "outputs": [
        {
          "output_type": "display_data",
          "data": {
            "text/plain": [
              "<Figure size 1500x1000 with 1 Axes>"
            ],
            "image/png": "[encoded data removed]"
          },
          "metadata": {}
        }
      ]
    },
    {
      "cell_type": "markdown",
      "source": [
        "Можно заметить, что распределение классов не очень сбалансированно, это важно будет помнить при вычислении метрик"
      ],
      "metadata": {
        "id": "MJm1aZkjk6oe"
      }
    },
    {
      "cell_type": "markdown",
      "source": [
        "## GCN-модель"
      ],
      "metadata": {
        "id": "m0Uo9X9Hl4js"
      }
    },
    {
      "cell_type": "code",
      "source": [
        "class GCN(torch.nn.Module):\n",
        "    def __init__(self, in_channels, hidden_channels, out_channels):\n",
        "        super().__init__()\n",
        "        self.conv1 = GCNConv(in_channels, hidden_channels)\n",
        "        self.conv2 = GCNConv(hidden_channels, out_channels)\n",
        "        self.dropout = torch.nn.Dropout(0.2)\n",
        "\n",
        "    def forward(self, x, edge_index):\n",
        "        x = self.conv1(x, edge_index)\n",
        "        x = F.relu(x)\n",
        "        x = self.dropout(x)\n",
        "        x = self.conv2(x, edge_index)\n",
        "        return F.log_softmax(x, dim=1)"
      ],
      "metadata": {
        "id": "7bxNIoZfmADg"
      },
      "execution_count": 6,
      "outputs": []
    },
    {
      "cell_type": "code",
      "source": [
        "model = GCN(dataset.num_node_features, 16, dataset.num_classes)\n",
        "optimizer = torch.optim.Adam(model.parameters(), lr=0.01, weight_decay=5e-4)"
      ],
      "metadata": {
        "id": "E7VpaPjxnkEn"
      },
      "execution_count": 7,
      "outputs": []
    },
    {
      "cell_type": "code",
      "source": [
        "def train():\n",
        "    model.train()\n",
        "    optimizer.zero_grad()\n",
        "    result = model(data.x, data.edge_index)\n",
        "    loss = F.nll_loss(result[data.train_mask], data.y[data.train_mask])\n",
        "    loss.backward()\n",
        "    optimizer.step()\n",
        "    return loss.item()\n",
        "\n",
        "@torch.no_grad()\n",
        "def test():\n",
        "    model.eval()\n",
        "    out = model(data.x, data.edge_index)\n",
        "    preds = out.argmax(dim=1)\n",
        "    accs = []\n",
        "    for mask in [data.train_mask, data.val_mask, data.test_mask]:\n",
        "        correct = preds[mask].eq(data.y[mask]).sum().item()\n",
        "        accs.append(correct / mask.sum().item())\n",
        "    return accs"
      ],
      "metadata": {
        "id": "HHc-Ao9EndBO"
      },
      "execution_count": 8,
      "outputs": []
    },
    {
      "cell_type": "code",
      "source": [
        "lr_list = [0.1, 0.01, 0.001, 0.0001]\n",
        "epochs = 200"
      ],
      "metadata": {
        "id": "5EUjS3oc2wgI"
      },
      "execution_count": 12,
      "outputs": []
    },
    {
      "cell_type": "code",
      "source": [
        "for lr in lr_list:\n",
        "    print(f\"\\nTraining with lr={lr:.4f}\")\n",
        "\n",
        "    model = GCN(dataset.num_node_features, 16, dataset.num_classes)\n",
        "    optimizer = torch.optim.Adam(model.parameters(), lr=lr, weight_decay=5e-4)\n",
        "\n",
        "    for epoch in range(epochs):\n",
        "        train()\n",
        "\n",
        "    acc = test()\n",
        "    print(acc)"
      ],
      "metadata": {
        "colab": {
          "base_uri": "https://localhost:8080/"
        },
        "id": "bgcAQBnR3CXi",
        "outputId": "f0428f06-6269-4155-8618-0d9f90f13c51"
      },
      "execution_count": 13,
      "outputs": [
        {
          "output_type": "stream",
          "name": "stdout",
          "text": [
            "\n",
            "Training with lr=0.1000\n",
            "[1.0, 0.62, 0.612]\n",
            "\n",
            "Training with lr=0.0100\n",
            "[1.0, 0.688, 0.683]\n",
            "\n",
            "Training with lr=0.0010\n",
            "[1.0, 0.678, 0.659]\n",
            "\n",
            "Training with lr=0.0001\n",
            "[0.8333333333333334, 0.564, 0.55]\n"
          ]
        }
      ]
    },
    {
      "cell_type": "markdown",
      "source": [
        "Лучший результат вышел с `lr=0.01`"
      ],
      "metadata": {
        "id": "fVh4z72542sB"
      }
    },
    {
      "cell_type": "markdown",
      "source": [
        "## Самостоятельный GCNConv и обучение"
      ],
      "metadata": {
        "id": "yqoCchoE5HE9"
      }
    },
    {
      "cell_type": "code",
      "source": [
        "class MyGCNLayer(torch.nn.Module):\n",
        "    def __init__(self, in_channels, out_channels):\n",
        "        super().__init__()\n",
        "        self.linear = torch.nn.Linear(in_channels, out_channels)\n",
        "        self.bias = torch.nn.Parameter(torch.Tensor(out_channels))\n",
        "        self.linear.reset_parameters()\n",
        "        self.bias.data.zero_()\n",
        "\n",
        "    def forward(self, x, edge_index):\n",
        "        num_nodes = x.size(0)\n",
        "\n",
        "        edge_index, _ = add_self_loops(edge_index, num_nodes=num_nodes)\n",
        "\n",
        "        row, col = edge_index\n",
        "\n",
        "        deg = torch.bincount(row, minlength=num_nodes).float()\n",
        "        deg_inv_sqrt = deg.pow(-0.5)\n",
        "        deg_inv_sqrt[deg_inv_sqrt == float('inf')] = 0\n",
        "\n",
        "        norm = deg_inv_sqrt[row] * deg_inv_sqrt[col]\n",
        "\n",
        "        adj = torch.sparse_coo_tensor(\n",
        "            edge_index,\n",
        "            norm,\n",
        "            (num_nodes, num_nodes)\n",
        "        )\n",
        "\n",
        "        x = self.linear(x)\n",
        "        x = torch.sparse.mm(adj, x)\n",
        "        x += self.bias\n",
        "        return x"
      ],
      "metadata": {
        "id": "t2hzPUWh5zH6"
      },
      "execution_count": 40,
      "outputs": []
    },
    {
      "cell_type": "code",
      "source": [
        "class MyGCN(torch.nn.Module):\n",
        "    def __init__(self, in_channels, hidden_channels, out_channels):\n",
        "        super().__init__()\n",
        "        self.conv1 = MyGCNLayer(in_channels, hidden_channels)\n",
        "        self.conv2 = MyGCNLayer(hidden_channels, out_channels)\n",
        "        self.dropout = torch.nn.Dropout(0.5)\n",
        "\n",
        "    def forward(self, x, edge_index):\n",
        "        x = self.conv1(x, edge_index)\n",
        "        x = F.relu(x)\n",
        "        x = self.dropout(x)\n",
        "        x = self.conv2(x, edge_index)\n",
        "        return F.log_softmax(x, dim=1)"
      ],
      "metadata": {
        "id": "H-y20hYC6CCi"
      },
      "execution_count": 41,
      "outputs": []
    },
    {
      "cell_type": "code",
      "source": [
        "model = MyGCN(dataset.num_node_features, 16, dataset.num_classes)\n",
        "optimizer = torch.optim.Adam(model.parameters(), lr=0.01, weight_decay=5e-4)"
      ],
      "metadata": {
        "id": "3s1Zsunm6LSW"
      },
      "execution_count": 42,
      "outputs": []
    },
    {
      "cell_type": "code",
      "source": [
        "for epoch in range(epochs):\n",
        "        train()"
      ],
      "metadata": {
        "id": "i35YZck_6WOK"
      },
      "execution_count": 43,
      "outputs": []
    },
    {
      "cell_type": "code",
      "source": [
        "test_acc = test()"
      ],
      "metadata": {
        "id": "uPeZDC0C6doX"
      },
      "execution_count": 44,
      "outputs": []
    },
    {
      "cell_type": "code",
      "source": [
        "test_acc"
      ],
      "metadata": {
        "colab": {
          "base_uri": "https://localhost:8080/"
        },
        "id": "9xZcRnOR9qTH",
        "outputId": "42c7bbf3-bbe7-4a63-ae85-dfe3f515221d"
      },
      "execution_count": 45,
      "outputs": [
        {
          "output_type": "execute_result",
          "data": {
            "text/plain": [
              "[1.0, 0.678, 0.68]"
            ]
          },
          "metadata": {},
          "execution_count": 45
        }
      ]
    },
    {
      "cell_type": "markdown",
      "source": [
        "## Результаты"
      ],
      "metadata": {
        "id": "Kuz2BBb3FOXn"
      }
    },
    {
      "cell_type": "markdown",
      "source": [
        "Получились результаты, схожие с результатами модели `GCN`, построенной с слоями `GCNConv` из `PyG`"
      ],
      "metadata": {
        "id": "lPhpql4qBeJW"
      }
    }
  ]
}